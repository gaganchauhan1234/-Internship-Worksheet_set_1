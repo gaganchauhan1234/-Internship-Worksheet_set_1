{
 "cells": [
  {
   "cell_type": "code",
   "execution_count": 1,
   "id": "fc5d6fb0",
   "metadata": {},
   "outputs": [],
   "source": [
    "import pandas as pd\n",
    "import numpy as np\n",
    "from sklearn.preprocessing import StandardScaler\n",
    "from sklearn.linear_model import LogisticRegression , LinearRegression\n",
    "from sklearn.model_selection import train_test_split\n",
    "import matplotlib.pyplot  as plt\n",
    "from sklearn.metrics import classification_report ,r2_score , roc_auc_score,confusion_matrix,accuracy_score\n",
    "from sklearn.linear_model import Ridge,RidgeCV,Lasso,LassoCV\n",
    "import seaborn as sns\n",
    "from sklearn.feature_selection import f_classif,SelectKBest\n",
    "import warnings\n",
    "warnings.filterwarnings('ignore')"
   ]
  },
  {
   "cell_type": "code",
   "execution_count": 2,
   "id": "8c4f7792",
   "metadata": {},
   "outputs": [
    {
     "ename": "SyntaxError",
     "evalue": "invalid syntax (1748405795.py, line 1)",
     "output_type": "error",
     "traceback": [
      "\u001b[1;36m  File \u001b[1;32m\"C:\\Users\\SOOQ ELASER\\AppData\\Local\\Temp\\ipykernel_5744\\1748405795.py\"\u001b[1;36m, line \u001b[1;32m1\u001b[0m\n\u001b[1;33m    question 2 answer\u001b[0m\n\u001b[1;37m             ^\u001b[0m\n\u001b[1;31mSyntaxError\u001b[0m\u001b[1;31m:\u001b[0m invalid syntax\n"
     ]
    }
   ],
   "source": [
    "question 2 answer"
   ]
  },
  {
   "cell_type": "code",
   "execution_count": 3,
   "id": "0110c95b",
   "metadata": {},
   "outputs": [
    {
     "name": "stdout",
     "output_type": "stream",
     "text": [
      "enter any number :4\n",
      "4 its not a prime number\n"
     ]
    }
   ],
   "source": [
    "num = int(input('enter any number :'))\n",
    "\n",
    "if num > 1:\n",
    "    for i in range(2,num):\n",
    "        if (num % i)==0:\n",
    "            print(num,'its not a prime number')\n",
    "            \n",
    "        break\n",
    "    else:\n",
    "        print(num,\"its a prime number\")\n",
    "        \n",
    "elif num == 0 or 1:\n",
    "    print(num , \"is a neither a prime number or composite number\")\n",
    "else:\n",
    "    print(num,\"is not a prime number it \")"
   ]
  },
  {
   "cell_type": "code",
   "execution_count": null,
   "id": "10c5acba",
   "metadata": {},
   "outputs": [],
   "source": [
    "question 1 answer "
   ]
  },
  {
   "cell_type": "code",
   "execution_count": 8,
   "id": "369e43f8",
   "metadata": {},
   "outputs": [
    {
     "name": "stdout",
     "output_type": "stream",
     "text": [
      "Enter a number: 67\n",
      "The factorial of 67 is 1\n",
      "The factorial of 67 is 2\n",
      "The factorial of 67 is 6\n",
      "The factorial of 67 is 24\n",
      "The factorial of 67 is 120\n",
      "The factorial of 67 is 720\n",
      "The factorial of 67 is 5040\n",
      "The factorial of 67 is 40320\n",
      "The factorial of 67 is 362880\n",
      "The factorial of 67 is 3628800\n",
      "The factorial of 67 is 39916800\n",
      "The factorial of 67 is 479001600\n",
      "The factorial of 67 is 6227020800\n",
      "The factorial of 67 is 87178291200\n",
      "The factorial of 67 is 1307674368000\n",
      "The factorial of 67 is 20922789888000\n",
      "The factorial of 67 is 355687428096000\n",
      "The factorial of 67 is 6402373705728000\n",
      "The factorial of 67 is 121645100408832000\n",
      "The factorial of 67 is 2432902008176640000\n",
      "The factorial of 67 is 51090942171709440000\n",
      "The factorial of 67 is 1124000727777607680000\n",
      "The factorial of 67 is 25852016738884976640000\n",
      "The factorial of 67 is 620448401733239439360000\n",
      "The factorial of 67 is 15511210043330985984000000\n",
      "The factorial of 67 is 403291461126605635584000000\n",
      "The factorial of 67 is 10888869450418352160768000000\n",
      "The factorial of 67 is 304888344611713860501504000000\n",
      "The factorial of 67 is 8841761993739701954543616000000\n",
      "The factorial of 67 is 265252859812191058636308480000000\n",
      "The factorial of 67 is 8222838654177922817725562880000000\n",
      "The factorial of 67 is 263130836933693530167218012160000000\n",
      "The factorial of 67 is 8683317618811886495518194401280000000\n",
      "The factorial of 67 is 295232799039604140847618609643520000000\n",
      "The factorial of 67 is 10333147966386144929666651337523200000000\n",
      "The factorial of 67 is 371993326789901217467999448150835200000000\n",
      "The factorial of 67 is 13763753091226345046315979581580902400000000\n",
      "The factorial of 67 is 523022617466601111760007224100074291200000000\n",
      "The factorial of 67 is 20397882081197443358640281739902897356800000000\n",
      "The factorial of 67 is 815915283247897734345611269596115894272000000000\n",
      "The factorial of 67 is 33452526613163807108170062053440751665152000000000\n",
      "The factorial of 67 is 1405006117752879898543142606244511569936384000000000\n",
      "The factorial of 67 is 60415263063373835637355132068513997507264512000000000\n",
      "The factorial of 67 is 2658271574788448768043625811014615890319638528000000000\n",
      "The factorial of 67 is 119622220865480194561963161495657715064383733760000000000\n",
      "The factorial of 67 is 5502622159812088949850305428800254892961651752960000000000\n",
      "The factorial of 67 is 258623241511168180642964355153611979969197632389120000000000\n",
      "The factorial of 67 is 12413915592536072670862289047373375038521486354677760000000000\n",
      "The factorial of 67 is 608281864034267560872252163321295376887552831379210240000000000\n",
      "The factorial of 67 is 30414093201713378043612608166064768844377641568960512000000000000\n",
      "The factorial of 67 is 1551118753287382280224243016469303211063259720016986112000000000000\n",
      "The factorial of 67 is 80658175170943878571660636856403766975289505440883277824000000000000\n",
      "The factorial of 67 is 4274883284060025564298013753389399649690343788366813724672000000000000\n",
      "The factorial of 67 is 230843697339241380472092742683027581083278564571807941132288000000000000\n",
      "The factorial of 67 is 12696403353658275925965100847566516959580321051449436762275840000000000000\n",
      "The factorial of 67 is 710998587804863451854045647463724949736497978881168458687447040000000000000\n",
      "The factorial of 67 is 40526919504877216755680601905432322134980384796226602145184481280000000000000\n",
      "The factorial of 67 is 2350561331282878571829474910515074683828862318181142924420699914240000000000000\n",
      "The factorial of 67 is 138683118545689835737939019720389406345902876772687432540821294940160000000000000\n",
      "The factorial of 67 is 8320987112741390144276341183223364380754172606361245952449277696409600000000000000\n",
      "The factorial of 67 is 507580213877224798800856812176625227226004528988036003099405939480985600000000000000\n",
      "The factorial of 67 is 31469973260387937525653122354950764088012280797258232192163168247821107200000000000000\n",
      "The factorial of 67 is 1982608315404440064116146708361898137544773690227268628106279599612729753600000000000000\n",
      "The factorial of 67 is 126886932185884164103433389335161480802865516174545192198801894375214704230400000000000000\n",
      "The factorial of 67 is 8247650592082470666723170306785496252186258551345437492922123134388955774976000000000000000\n",
      "The factorial of 67 is 544344939077443064003729240247842752644293064388798874532860126869671081148416000000000000000\n",
      "The factorial of 67 is 36471110918188685288249859096605464427167635314049524593701628500267962436943872000000000000000\n"
     ]
    }
   ],
   "source": [
    "num = int(input(\"Enter a number: \"))\n",
    "\n",
    "factorial = 1\n",
    "\n",
    "if num < 0:\n",
    "    print(\"Sorry, factorial does not exist for negative numbers\")\n",
    "elif num == 0:\n",
    "    print(\"The factorial of 0 is 1\")\n",
    "else:\n",
    "    for i in range(1,num + 1):\n",
    "        factorial = factorial*i\n",
    "        print(\"The factorial of\",num,\"is\",factorial)"
   ]
  },
  {
   "cell_type": "code",
   "execution_count": null,
   "id": "6376baab",
   "metadata": {},
   "outputs": [],
   "source": [
    "question 3 answer "
   ]
  },
  {
   "cell_type": "code",
   "execution_count": 24,
   "id": "6e039bc1",
   "metadata": {},
   "outputs": [
    {
     "name": "stdout",
     "output_type": "stream",
     "text": [
      "Enter deatils : aaa\n",
      "aaa is a Palindrome  \n"
     ]
    }
   ],
   "source": [
    "\n",
    "def isPalindrome(s):\n",
    "    return s == s[::-1]\n",
    "  \n",
    "\n",
    "s = input('Enter deatils : ')\n",
    "ans = isPalindrome(s)\n",
    "  \n",
    "if ans:\n",
    "    print(s ,\"is a Palindrome  \")\n",
    "else:\n",
    "    print(s, \"is not a Palindrome  \")"
   ]
  },
  {
   "cell_type": "code",
   "execution_count": 25,
   "id": "95fed568",
   "metadata": {},
   "outputs": [
    {
     "name": "stdout",
     "output_type": "stream",
     "text": [
      "Enter base: 12\n",
      "Enter height: 14\n",
      "Enter angle: 23\n",
      "Hypotenuse = 18.439088914585774\n"
     ]
    }
   ],
   "source": [
    "import math\n",
    "\n",
    "a = float(input(\"Enter base: \"))\n",
    "b = float(input(\"Enter height: \"))\n",
    "x = float(input(\"Enter angle: \"))\n",
    "\n",
    "c = math.sqrt(a ** 2 + b ** 2)\n",
    "\n",
    "print(\"Hypotenuse =\", c)"
   ]
  },
  {
   "cell_type": "code",
   "execution_count": 28,
   "id": "b3743295",
   "metadata": {},
   "outputs": [
    {
     "name": "stdout",
     "output_type": "stream",
     "text": [
      " Enter string :gagan\n",
      "Count of all characters in test_string is :\n",
      " {'g': 2, 'a': 2, 'n': 1}\n"
     ]
    }
   ],
   "source": [
    "test_string = input(\" Enter string :\")\n",
    "\n",
    "all_f = {}\n",
    "\n",
    "for i in test_string:\n",
    "    if i in all_f:\n",
    "        all_f[i]+=1\n",
    "        \n",
    "    else:\n",
    "        all_f[i]=1\n",
    "print(\"Count of all characters in test_string is :\\n \"\n",
    "      + str(all_f))"
   ]
  },
  {
   "cell_type": "code",
   "execution_count": null,
   "id": "bf732910",
   "metadata": {},
   "outputs": [],
   "source": []
  }
 ],
 "metadata": {
  "kernelspec": {
   "display_name": "Python 3 (ipykernel)",
   "language": "python",
   "name": "python3"
  },
  "language_info": {
   "codemirror_mode": {
    "name": "ipython",
    "version": 3
   },
   "file_extension": ".py",
   "mimetype": "text/x-python",
   "name": "python",
   "nbconvert_exporter": "python",
   "pygments_lexer": "ipython3",
   "version": "3.9.13"
  }
 },
 "nbformat": 4,
 "nbformat_minor": 5
}
